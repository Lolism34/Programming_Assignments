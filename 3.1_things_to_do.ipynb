{
 "cells": [
  {
   "cell_type": "code",
   "execution_count": 24,
   "id": "493464a8-25ec-4da6-b8a2-d9149c434be5",
   "metadata": {
    "scrolled": true
   },
   "outputs": [
    {
     "name": "stdout",
     "output_type": "stream",
     "text": [
      "3600\n",
      "3600\n",
      "86400\n",
      "86400\n",
      "24.0\n",
      "24\n"
     ]
    }
   ],
   "source": [
    "#3.1 Things to do \n",
    "\n",
    "# Calculate Seconds in an hour\n",
    "seconds_in_hour = 60*60\n",
    "print(seconds_in_hour)\n",
    "\n",
    "#3.2\n",
    "# seconds per hour variable\n",
    "seconds_per_hour = 60 *60\n",
    "print(seconds_per_hour)\n",
    "\n",
    "#3.3\n",
    "# How many seconds in day \n",
    "seconds_in_day = seconds_per_hour * 24\n",
    "print(seconds_in_day)\n",
    "#3.4\n",
    "# seconds per day variable\n",
    "seconds_in_day = seconds_per_hour * 24\n",
    "print(seconds_per_day)\n",
    "\n",
    "#3.5\n",
    "# Divide seconds_per_day by seconds_per_hour using floating-point division\n",
    "results = seconds_per_day / seconds_per_hour\n",
    "print(results)\n",
    "\n",
    "#3.6\n",
    "# Divide seconds_per_day by seconds_per_hour using integer division\n",
    "result = seconds_per_day // seconds_per_hour\n",
    "print(result)"
   ]
  },
  {
   "cell_type": "code",
   "execution_count": null,
   "id": "e3e5d444-2a94-4a46-a763-4bbf0c7b620f",
   "metadata": {},
   "outputs": [],
   "source": []
  }
 ],
 "metadata": {
  "kernelspec": {
   "display_name": "Python 3 (ipykernel)",
   "language": "python",
   "name": "python3"
  },
  "language_info": {
   "codemirror_mode": {
    "name": "ipython",
    "version": 3
   },
   "file_extension": ".py",
   "mimetype": "text/x-python",
   "name": "python",
   "nbconvert_exporter": "python",
   "pygments_lexer": "ipython3",
   "version": "3.12.4"
  }
 },
 "nbformat": 4,
 "nbformat_minor": 5
}
