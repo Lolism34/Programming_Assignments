{
 "cells": [
  {
   "cell_type": "code",
   "execution_count": null,
   "id": "558bc0c3-e0a3-4363-b566-4d8e01b7c904",
   "metadata": {},
   "outputs": [],
   "source": [
    "#13.1\n",
    "from datetime import date\n",
    "\n",
    "# Get the current date\n",
    "current_date = date.today()\n",
    "\n",
    "# Convert the date to a string\n",
    "date_string = current_date.strftime(\"%Y-%m-%d\")\n",
    "\n",
    "# Write the date string to the text file\n",
    "with open(\"today.txt\", \"w\") as file:\n",
    "    file.write(date_string)"
   ]
  },
  {
   "cell_type": "code",
   "execution_count": null,
   "id": "0e5745a5-d543-4962-abc0-806a717f8908",
   "metadata": {},
   "outputs": [],
   "source": [
    "# 13.2\n",
    "# Read the text file into a string\n",
    "with open(\"today.txt\", \"r\") as file:\n",
    "    today_string = file.read()"
   ]
  },
  {
   "cell_type": "code",
   "execution_count": 1,
   "id": "cf1921d5-89e9-4651-b01f-79b302c25cf7",
   "metadata": {},
   "outputs": [
    {
     "ename": "NameError",
     "evalue": "name 'today_string' is not defined",
     "output_type": "error",
     "traceback": [
      "\u001b[1;31m---------------------------------------------------------------------------\u001b[0m",
      "\u001b[1;31mNameError\u001b[0m                                 Traceback (most recent call last)",
      "Cell \u001b[1;32mIn[1], line 4\u001b[0m\n\u001b[0;32m      1\u001b[0m \u001b[38;5;28;01mfrom\u001b[39;00m \u001b[38;5;21;01mdatetime\u001b[39;00m \u001b[38;5;28;01mimport\u001b[39;00m datetime\n\u001b[0;32m      3\u001b[0m \u001b[38;5;66;03m# Parse the date from the string\u001b[39;00m\n\u001b[1;32m----> 4\u001b[0m parsed_date \u001b[38;5;241m=\u001b[39m datetime\u001b[38;5;241m.\u001b[39mstrptime(today_string, \u001b[38;5;124m\"\u001b[39m\u001b[38;5;124m%\u001b[39m\u001b[38;5;124mY-\u001b[39m\u001b[38;5;124m%\u001b[39m\u001b[38;5;124mm-\u001b[39m\u001b[38;5;132;01m%d\u001b[39;00m\u001b[38;5;124m\"\u001b[39m)\u001b[38;5;241m.\u001b[39mdate()\n",
      "\u001b[1;31mNameError\u001b[0m: name 'today_string' is not defined"
     ]
    }
   ],
   "source": [
    "# 13.3\n",
    "from datetime import datetime\n",
    "\n",
    "# Parse the date from the string\n",
    "parsed_date = datetime.strptime(today_string, \"%Y-%m-%d\").date()"
   ]
  },
  {
   "cell_type": "code",
   "execution_count": 3,
   "id": "7c9c1558-ee0f-45a7-91fe-9792c56ac627",
   "metadata": {},
   "outputs": [
    {
     "name": "stdout",
     "output_type": "stream",
     "text": [
      "2024-09-29\n"
     ]
    }
   ],
   "source": [
    "# Complete working \n",
    "\n",
    "from datetime import date, datetime\n",
    "\n",
    "def write_and_parse_date():\n",
    "    # Get the current date\n",
    "    current_date = date.today()\n",
    "\n",
    "    # Convert the date to a string\n",
    "    date_string = current_date.strftime(\"%Y-%m-%d\")\n",
    "\n",
    "    # Write the date string to the text file\n",
    "    with open(\"today.txt\", \"w\") as file:\n",
    "        file.write(date_string)\n",
    "\n",
    "    # Read the text file into a string\n",
    "    with open(\"today.txt\", \"r\") as file:\n",
    "        today_string = file.read()\n",
    "\n",
    "    # Parse the date from the string\n",
    "    parsed_date = datetime.strptime(today_string, \"%Y-%m-%d\").date()\n",
    "\n",
    "    return parsed_date\n",
    "\n",
    "# Call the function\n",
    "parsed_date = write_and_parse_date()\n",
    "print(parsed_date)"
   ]
  },
  {
   "cell_type": "code",
   "execution_count": null,
   "id": "67d5eca3-6927-4fbd-9f20-2c6794166618",
   "metadata": {},
   "outputs": [],
   "source": [
    "# 15.1\n",
    "\n",
    "import multiprocessing\n",
    "import time\n",
    "import random\n",
    "import datetime\n",
    "\n",
    "def process_task(process_id):\n",
    "    # Wait a random number of seconds between 0 and 1\n",
    "    wait_time = random.random()\n",
    "    time.sleep(wait_time)\n",
    "\n",
    "    # Print the current time\n",
    "    current_time = datetime.datetime.now()\n",
    "    print(f\"Process {process_id} finished at {current_time}\")\n",
    "\n",
    "# Create three separate processes\n",
    "if __name__ == \"__main__\":\n",
    "    processes = []\n",
    "    for i in range(3):\n",
    "        process = multiprocessing.Process(target=process_task, args=(i+1,))\n",
    "        processes.append(process)\n",
    "        process.start()\n",
    "\n",
    "    # Wait for all processes to finish\n",
    "    for process in processes:\n",
    "        process.join()"
   ]
  }
 ],
 "metadata": {
  "kernelspec": {
   "display_name": "Python 3 (ipykernel)",
   "language": "python",
   "name": "python3"
  },
  "language_info": {
   "codemirror_mode": {
    "name": "ipython",
    "version": 3
   },
   "file_extension": ".py",
   "mimetype": "text/x-python",
   "name": "python",
   "nbconvert_exporter": "python",
   "pygments_lexer": "ipython3",
   "version": "3.12.4"
  }
 },
 "nbformat": 4,
 "nbformat_minor": 5
}
